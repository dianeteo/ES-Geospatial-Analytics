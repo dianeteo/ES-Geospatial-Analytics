{
 "cells": [
  {
   "cell_type": "markdown",
   "metadata": {},
   "source": [
    "#### Preprocessing data into a geodataframe"
   ]
  },
  {
   "cell_type": "markdown",
   "metadata": {},
   "source": [
    "##### Filtering by specific postal code"
   ]
  },
  {
   "cell_type": "code",
   "execution_count": 16,
   "metadata": {},
   "outputs": [
    {
     "name": "stdout",
     "output_type": "stream",
     "text": [
      "Coordinates for postal code 090112: Longitude 103.82593292805574, Latitude 1.2745285256209595\n",
      "Coordinates for postal code 090114: Longitude 103.82588719010951, Latitude 1.2750718182249274\n"
     ]
    }
   ],
   "source": [
    "import geopandas as gpd\n",
    "\n",
    "geojson_path = \"C:\\\\LocalOneDrive\\\\Documents\\\\Desktop\\\\MTI\\\\UHI-Project\\\\MSE-ES-UHI\\\\Data\\\\ADDRPT.geojson\"\n",
    "postal_code_112 = \"090112\"\n",
    "postal_code_114 = \"090114\"\n",
    "\n",
    "# Load the GeoJSON file\n",
    "gdf = gpd.read_file(geojson_path)\n",
    "\n",
    "# Function to retrieve coordinates by postal code\n",
    "def get_coordinates_by_postal_code(postal_code):\n",
    "    # Filter GeoDataFrame for the given postal code\n",
    "    filtered_gdf = gdf[gdf['POSTAL_CODE'] == postal_code]\n",
    "    if not filtered_gdf.empty:\n",
    "        # Extract coordinates\n",
    "        point = filtered_gdf.iloc[0].geometry\n",
    "        return point.x, point.y\n",
    "    else:\n",
    "        return None, None\n",
    "\n",
    "longitude_112, latitude_112 = get_coordinates_by_postal_code(postal_code_112)\n",
    "longitude_114, latitude_114 = get_coordinates_by_postal_code(postal_code_114)\n",
    "\n",
    "if longitude_112 and latitude_112 and longitude_114 and latitude_114:\n",
    "    print(f'Coordinates for postal code {postal_code_112}: Longitude {longitude_112}, Latitude {latitude_112}')\n",
    "    print(f'Coordinates for postal code {postal_code_114}: Longitude {longitude_114}, Latitude {latitude_114}')\n",
    "else:\n",
    "    print('Postal code not found.')"
   ]
  },
  {
   "cell_type": "code",
   "execution_count": 17,
   "metadata": {},
   "outputs": [
    {
     "name": "stdout",
     "output_type": "stream",
     "text": [
      "Average coordinates between postal codes 090112 and 090114:\n",
      "Longitude: 103.82591005908262, Latitude: 1.2748001719229434\n"
     ]
    }
   ],
   "source": [
    "# Finding the central postal code for Blocks 112 and 114\n",
    "if longitude_112 and latitude_112 and longitude_114 and latitude_114:\n",
    "    # Calculate the average coordinates\n",
    "    avg_longitude = (longitude_112 + longitude_114) / 2\n",
    "    avg_latitude = (latitude_112 + latitude_114) / 2\n",
    "    print(f'Average coordinates between postal codes {postal_code_112} and {postal_code_114}:')\n",
    "    print(f'Longitude: {avg_longitude}, Latitude: {avg_latitude}')\n",
    "else:\n",
    "    print('Postal code not found.')"
   ]
  },
  {
   "cell_type": "code",
   "execution_count": 30,
   "metadata": {},
   "outputs": [],
   "source": [
    "# Converting x and y to coordinates for latitude/longitude\n",
    "import rasterio\n",
    "import numpy as np\n",
    "import pandas as pd\n",
    "from pyproj import Transformer\n",
    "from shapely.geometry import Point\n",
    "\n",
    "def preprocessing(file_path): \n",
    "    # Open your GeoTIFF file\n",
    "    with rasterio.open(file_path) as src:\n",
    "        array = src.read()\n",
    "        transform = src.transform\n",
    "        src_crs = src.crs  # Source CRS\n",
    "        dest_crs = 'EPSG:4326'  # WGS 84\n",
    "\n",
    "        # Create a transformer object to convert from src_crs to dest_crs\n",
    "        transformer = Transformer.from_crs(src_crs, dest_crs, always_xy=True)\n",
    "\n",
    "        # Get arrays of column and row indices\n",
    "        cols, rows = np.meshgrid(np.arange(array.shape[2]), np.arange(array.shape[1]))\n",
    "        \n",
    "        # Convert meshgrid arrays to coordinate arrays using rasterio's method, which are 2D\n",
    "        xs, ys = rasterio.transform.xy(transform, rows, cols, offset='center')\n",
    "        \n",
    "        # Flatten the coordinate arrays to pass to transform function\n",
    "        lon, lat = transformer.transform(np.array(xs).flatten(), np.array(ys).flatten())\n",
    "\n",
    "        # Create DataFrame and convert to GeoDataFrame\n",
    "        df = pd.DataFrame({'Longitude': lon, 'Latitude': lat})\n",
    "        for i, band in enumerate(src.read(masked=True)):\n",
    "            df[src.descriptions[i]] = band.flatten()\n",
    "\n",
    "        # Convert 'SR_QA_AEROSOL' to integer for bitwise operation\n",
    "        df['SR_QA_AEROSOL'] = df['SR_QA_AEROSOL'].astype(int)\n",
    "\n",
    "        # Filter out pixels with valid aerosol retrieval and high aerosol level\n",
    "        # Assuming 'SR_QA_AEROSOL' is the name of the QA aerosol band in the data\n",
    "        valid_aerosol = (df['SR_QA_AEROSOL'] & 2) == 2  # Bit 1 must be set for valid retrieval\n",
    "        high_aerosol = (df['SR_QA_AEROSOL'] & 192) == 192  # Bits 6-7 must be set to 11 for high aerosol\n",
    "        filter_mask = valid_aerosol & high_aerosol\n",
    "        df_filtered = df[-filter_mask]\n",
    "        \n",
    "        # Scale and offset specific bands\n",
    "        df_filtered['ST_B10_Celsius'] = df_filtered['ST_B10'] * 0.00341802 + 149 - 273.15\n",
    "        bands_to_scale = ['SR_B1', 'SR_B2', 'SR_B3', 'SR_B4', 'SR_B5', 'SR_B6', 'SR_B7']\n",
    "        for band in bands_to_scale:\n",
    "            df_filtered[f\"{band}_Scaled\"] = df_filtered[band] * 2.75e-05 - 0.2\n",
    "\n",
    "        additional_scales = {\n",
    "            'ST_ATRAN': 0.0001, 'ST_CDIST': 0.01, 'ST_DRAD': 0.001, \n",
    "            'ST_EMIS': 0.0001, 'ST_EMSD': 0.0001, 'ST_QA': 0.01, \n",
    "            'ST_TRAD': 0.001, 'ST_URAD': 0.001\n",
    "        }\n",
    "\n",
    "        for band, scale in additional_scales.items():\n",
    "            df_filtered[f\"{band}_Scaled\"] = df_filtered[band] * scale\n",
    "\n",
    "        gdf = gpd.GeoDataFrame(df_filtered, geometry=gpd.points_from_xy(df_filtered.Longitude, df_filtered.Latitude))\n",
    "        gdf.set_crs('EPSG:4326', inplace=True)  # Ensure the CRS is set to WGS 84\n",
    "\n",
    "        print(\"Total number of valid pixels: \" + str(len(gdf)))\n",
    "        print(df[['Latitude', 'Longitude']].head())\n",
    "\n",
    "        # Define your point of interest and buffer distance in meters\n",
    "        poi = Point(avg_longitude, avg_latitude)  # Example: Central Singapore\n",
    "        desired_radius = 90\n",
    "        buffer = poi.buffer(desired_radius / 111320)  # Convert meters to degrees approximately\n",
    "\n",
    "        # Filter points within the buffer\n",
    "        filtered_gdf = gdf[gdf.geometry.within(buffer)]\n",
    "\n",
    "        # Save or process your filtered data\n",
    "        print(f\"Number of points within {desired_radius}m radius: {len(filtered_gdf)}\")\n",
    "        print(filtered_gdf['ST_B10_Celsius'].head())\n",
    "\n",
    "    return filtered_gdf"
   ]
  },
  {
   "cell_type": "markdown",
   "metadata": {},
   "source": [
    "##### Combining GDFs"
   ]
  },
  {
   "cell_type": "code",
   "execution_count": 51,
   "metadata": {},
   "outputs": [
    {
     "name": "stdout",
     "output_type": "stream",
     "text": [
      "Total number of valid pixels: 2126550\n",
      "   Latitude   Longitude\n",
      "0  1.470099  103.589751\n",
      "1  1.470099  103.590021\n",
      "2  1.470099  103.590290\n",
      "3  1.470099  103.590560\n",
      "4  1.470100  103.590830\n",
      "Number of points within 90m radius: 27\n",
      "1280350    20.380981\n",
      "1280351    20.210083\n",
      "1280352    20.616821\n",
      "1280353    20.818481\n",
      "1282131    20.876587\n",
      "Name: ST_B10_Celsius, dtype: float32\n",
      "Total number of valid pixels: 2151197\n",
      "   Latitude   Longitude\n",
      "0  1.470099  103.589751\n",
      "1  1.470099  103.590021\n",
      "2  1.470099  103.590290\n",
      "3  1.470099  103.590560\n",
      "4  1.470100  103.590830\n",
      "Number of points within 90m radius: 26\n",
      "1280350    29.883087\n",
      "1280351    29.684845\n",
      "1280352    29.821564\n",
      "1280353    29.746368\n",
      "1282131    30.098419\n",
      "Name: ST_B10_Celsius, dtype: float32\n"
     ]
    }
   ],
   "source": [
    "import geopandas as gpd\n",
    "import hvplot.pandas\n",
    "import panel as pn\n",
    "from bokeh.models import Slider\n",
    "from bokeh.layouts import column\n",
    "\n",
    "# Suppress SettingWithCopyWarning\n",
    "pd.options.mode.chained_assignment = None  # default='warn'\n",
    "\n",
    "file1 = \"L8_UTC_20201207_031659.tif\"\n",
    "file2 = \"L8_UTC_20201223_031657.tif\"\n",
    "\n",
    "file_path_1 = f\"C:\\\\LocalOneDrive\\\\Documents\\\\Desktop\\\\MTI\\\\UHI-Project\\\\MSE-ES-UHI\\\\Data\\\\Landsat8\\\\2020_test\\\\2020\\\\{file1}\"\n",
    "file_path_2 = f\"C:\\\\LocalOneDrive\\\\Documents\\\\Desktop\\\\MTI\\\\UHI-Project\\\\MSE-ES-UHI\\\\Data\\\\Landsat8\\\\2020_test\\\\2020\\\\{file2}\"\n",
    "\n",
    "# Load and prepare your GeoDataFrames for two different times\n",
    "gdf1 = preprocessing(file_path_1)\n",
    "gdf2 = preprocessing(file_path_2)\n",
    "\n",
    "# Combine both GeoDataFrames into one with an additional 'time' column\n",
    "gdf1['time'] = 'Time 1'\n",
    "gdf2['time'] = 'Time 2'\n",
    "combined_gdf = pd.concat([gdf1, gdf2])"
   ]
  },
  {
   "cell_type": "code",
   "execution_count": 52,
   "metadata": {},
   "outputs": [
    {
     "name": "stdout",
     "output_type": "stream",
     "text": [
      "ST_B10_Celsius values for Time 1:\n",
      "1280350    20.380981\n",
      "1280351    20.210083\n",
      "1280352    20.616821\n",
      "1280353    20.818481\n",
      "1282131    20.876587\n",
      "1282132    20.572388\n",
      "1282133    20.452759\n",
      "1282134    20.903931\n",
      "1282135    21.163727\n",
      "1282136    21.512360\n",
      "1283913    21.211578\n",
      "1283914    20.972321\n",
      "1283915    20.985992\n",
      "1283916    20.992828\n",
      "1283917    21.341461\n",
      "1283918    21.741364\n",
      "1285695    21.741364\n",
      "1285696    21.696930\n",
      "1285697    21.683258\n",
      "1285698    21.874664\n",
      "1285699    22.260895\n",
      "1285700    22.667633\n",
      "1287478    22.230133\n",
      "1287479    22.418121\n",
      "1287480    22.500153\n",
      "1287481    23.026520\n",
      "1289262    23.409332\n",
      "Name: ST_B10_Celsius, dtype: float32\n",
      "\n",
      "ST_B10_Celsius values for Time 2:\n",
      "1280350    29.883087\n",
      "1280351    29.684845\n",
      "1280352    29.821564\n",
      "1280353    29.746368\n",
      "1282131    30.098419\n",
      "1282132    29.773712\n",
      "1282133    29.534454\n",
      "1282134    29.623322\n",
      "1282135    29.595978\n",
      "1282136    29.609650\n",
      "1283914    29.527618\n",
      "1283915    29.267853\n",
      "1283916    28.922607\n",
      "1283917    28.936279\n",
      "1283918    28.990967\n",
      "1285695    29.643829\n",
      "1285696    29.384064\n",
      "1285697    29.185822\n",
      "1285698    28.881592\n",
      "1285699    28.922607\n",
      "1285700    29.011475\n",
      "1287478    29.349884\n",
      "1287479    29.261017\n",
      "1287480    28.922607\n",
      "1287481    28.922607\n",
      "1289261    29.363556\n",
      "Name: ST_B10_Celsius, dtype: float32\n"
     ]
    }
   ],
   "source": [
    "# Filter DataFrame for 'Time 1'\n",
    "time1_values = combined_gdf.loc[combined_gdf['time'] == 'Time 1', 'ST_B10_Celsius']\n",
    "print(\"ST_B10_Celsius values for Time 1:\")\n",
    "print(time1_values)\n",
    "\n",
    "# Filter DataFrame for 'Time 2'\n",
    "time2_values = combined_gdf.loc[combined_gdf['time'] == 'Time 2', 'ST_B10_Celsius']\n",
    "print(\"\\nST_B10_Celsius values for Time 2:\")\n",
    "print(time2_values)"
   ]
  },
  {
   "cell_type": "markdown",
   "metadata": {},
   "source": [
    "##### Plotting interactive spatial map (LST over time)"
   ]
  },
  {
   "cell_type": "code",
   "execution_count": 106,
   "metadata": {},
   "outputs": [
    {
     "name": "stdout",
     "output_type": "stream",
     "text": [
      "Updating plot for: Time 1, Number of points: 27\n",
      "Launching server at http://localhost:57886\n"
     ]
    },
    {
     "data": {
      "text/plain": [
       "<panel.io.server.Server at 0x1af592470d0>"
      ]
     },
     "execution_count": 106,
     "metadata": {},
     "output_type": "execute_result"
    }
   ],
   "source": [
    "# For interactive map, launch local host\n",
    "import geopandas as gpd\n",
    "import hvplot.pandas\n",
    "import panel as pn\n",
    "\n",
    "def create_interactive_plot(combined_gdf):\n",
    "    time_slider = pn.widgets.IntSlider(name='Select Time', start=1, end=combined_gdf['time'].nunique(), value=1, step=1)\n",
    "\n",
    "    @pn.depends(time_slider.param.value_throttled)\n",
    "    def dynamic_map(value):\n",
    "        time_label = f'Time {value}'\n",
    "        filtered_data = combined_gdf.loc[combined_gdf['time'] == time_label]\n",
    "        print(f'Updating plot for: {time_label}, Number of points: {len(filtered_data)}')\n",
    "\n",
    "        return filtered_data.hvplot.points(\n",
    "            'Longitude', 'Latitude', geo=True, c='ST_B10_Celsius',\n",
    "            cmap='viridis', size=5, tiles='OSM', frame_width=700,\n",
    "            frame_height=500, colorbar=True, clim=(20, 40)\n",
    "        )\n",
    "\n",
    "    layout = pn.Column(\n",
    "        \"<br>\\n Land Surface Temperature Map\",\n",
    "        time_slider,\n",
    "        dynamic_map\n",
    "    )\n",
    "\n",
    "    return layout\n",
    "\n",
    "# Assuming 'combined_gdf' is a GeoDataFrame already loaded and ready to be used.\n",
    "layout = create_interactive_plot(combined_gdf)\n",
    "# layout.servable()\n",
    "pn.serve(layout, show=False, start=True, file_name=\"land_surface_temperature_map.html\")"
   ]
  },
  {
   "cell_type": "code",
   "execution_count": 86,
   "metadata": {},
   "outputs": [
    {
     "data": {
      "application/vnd.jupyter.widget-view+json": {
       "model_id": "d3e2d1ed231642c2aa8bd9b9e564132e",
       "version_major": 2,
       "version_minor": 0
      },
      "text/plain": [
       "BokehModel(combine_events=True, render_bundle={'docs_json': {'4daee2da-d6d1-420c-892e-355d6a054c16': {'version…"
      ]
     },
     "execution_count": 86,
     "metadata": {},
     "output_type": "execute_result"
    }
   ],
   "source": [
    "import panel as pn\n",
    "import panel.widgets as pnw\n",
    "import pandas as pd;\n",
    "import numpy as np\n",
    "from matplotlib.figure import Figure\n",
    "from matplotlib.backends.backend_agg import FigureCanvas\n",
    "\n",
    "DATA_URL = \"https://raw.githubusercontent.com/LuisM78/Occupancy-detection-data/master/datatraining.txt\"\n",
    "\n",
    "data = pd.read_csv(DATA_URL)\n",
    "data['date'] = data.date.astype('datetime64[ns]')\n",
    "data = data.set_index('date')\n",
    "\n",
    "variable  = pnw.RadioButtonGroup(name='variable', value='Temperature',\n",
    "                                 options=list(data.columns))\n",
    "window  = pnw.IntSlider(name='window', value=10, start=1, end=60)\n",
    "\n",
    "def mpl_plot(avg, highlight):\n",
    "    fig = Figure()\n",
    "    FigureCanvas(fig) # not needed in mpl >= 3.1\n",
    "    ax = fig.add_subplot()\n",
    "    avg.plot(ax=ax)\n",
    "    if len(highlight): highlight.plot(style='o', ax=ax)\n",
    "    return fig\n",
    "\n",
    "def find_outliers(variable='Temperature', window=30, sigma=10, view_fn=mpl_plot):\n",
    "    avg = data[variable].rolling(window=window).mean()\n",
    "    residual = data[variable] - avg\n",
    "    std = residual.rolling(window=window).std()\n",
    "    outliers = (np.abs(residual) > std * sigma)\n",
    "    return view_fn(avg, avg[outliers])\n",
    "\n",
    "@pn.depends(variable, window)\n",
    "def reactive_outliers(variable, window):\n",
    "    return find_outliers(variable, window, 10)\n",
    "\n",
    "widgets   = pn.Column(\"<br>\\n# Room occupancy\", variable, window)\n",
    "occupancy = pn.Row(reactive_outliers, widgets)\n",
    "occupancy.servable()"
   ]
  }
 ],
 "metadata": {
  "kernelspec": {
   "display_name": "Python 3",
   "language": "python",
   "name": "python3"
  },
  "language_info": {
   "codemirror_mode": {
    "name": "ipython",
    "version": 3
   },
   "file_extension": ".py",
   "mimetype": "text/x-python",
   "name": "python",
   "nbconvert_exporter": "python",
   "pygments_lexer": "ipython3",
   "version": "3.10.6"
  }
 },
 "nbformat": 4,
 "nbformat_minor": 2
}
