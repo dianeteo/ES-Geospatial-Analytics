{
 "cells": [
  {
   "cell_type": "markdown",
   "metadata": {},
   "source": [
    "#### Filtering low quality pixels"
   ]
  },
  {
   "cell_type": "code",
   "execution_count": 77,
   "metadata": {},
   "outputs": [
    {
     "name": "stdout",
     "output_type": "stream",
     "text": [
      "All files extracted for processing.\n",
      "Number of valid pixels: 2128012\n",
      "Processing complete, directory cleaned.\n"
     ]
    }
   ],
   "source": [
    "# Filtering pixels with high aerosol levels\n",
    "\n",
    "import rasterio\n",
    "import numpy as np\n",
    "import pandas as pd\n",
    "import geopandas as gpd\n",
    "from shapely.geometry import Point\n",
    "from pyproj import Transformer\n",
    "import zipfile\n",
    "import os\n",
    "import shutil\n",
    "\n",
    "# Suppress SettingWithCopyWarning\n",
    "pd.options.mode.chained_assignment = None  # default='warn'\n",
    "\n",
    "global filtered_gdf, df_filtered\n",
    "\n",
    "def unzip_process_zip(file_zip_path, target_file, process_directory):\n",
    "    global filtered_gdf, df_filtered\n",
    "    \n",
    "    # Ensure the processing directory is clear before extraction\n",
    "    if os.path.exists(process_directory):\n",
    "        shutil.rmtree(process_directory)\n",
    "    os.makedirs(process_directory)\n",
    "    \n",
    "    # Extract all files in the zip to process directory\n",
    "    with zipfile.ZipFile(file_zip_path, 'r') as z:\n",
    "        z.extractall(process_directory)\n",
    "        print(\"All files extracted for processing.\")\n",
    "        \n",
    "    target_file_path = os.path.join(process_directory, target_file)\n",
    "\n",
    "    # Check if the target file exists\n",
    "    if not os.path.exists(target_file_path):\n",
    "        print(\"Target file does not exist in the extracted files.\")\n",
    "        return\n",
    "\n",
    "    # Process the extracted file\n",
    "    with rasterio.open(target_file_path) as src:\n",
    "        array = src.read()\n",
    "        transform = src.transform\n",
    "\n",
    "        # Create transformer object to convert from source CRS to WGS 84\n",
    "        transformer = Transformer.from_crs(src.crs, 'EPSG:4326', always_xy=True)\n",
    "\n",
    "        # Generate longitude and latitude coordinates\n",
    "        cols, rows = np.meshgrid(np.arange(src.width), np.arange(src.height))\n",
    "        xs, ys = rasterio.transform.xy(transform, rows, cols, offset='center')\n",
    "        lon, lat = transformer.transform(np.array(xs).flatten(), np.array(ys).flatten())\n",
    "\n",
    "        # Create DataFrame and convert to GeoDataFrame\n",
    "        df = pd.DataFrame({'Longitude': lon, 'Latitude': lat})\n",
    "        for i, band in enumerate(src.read(masked=True)):\n",
    "            df[src.descriptions[i]] = band.flatten()\n",
    "\n",
    "        # Convert 'SR_QA_AEROSOL' to integer for bitwise operation\n",
    "        df['SR_QA_AEROSOL'] = df['SR_QA_AEROSOL'].astype(int)\n",
    "\n",
    "        # Filter out pixels with valid aerosol retrieval and high aerosol level\n",
    "        # Assuming 'SR_QA_AEROSOL' is the name of the QA aerosol band in the data\n",
    "        valid_aerosol = (df['SR_QA_AEROSOL'] & 2) == 2  # Bit 1 must be set for valid retrieval\n",
    "        high_aerosol = (df['SR_QA_AEROSOL'] & 192) == 192  # Bits 6-7 must be set to 11 for high aerosol\n",
    "        filter_mask = valid_aerosol & high_aerosol\n",
    "        df_filtered = df[-filter_mask]\n",
    "        \n",
    "        # Scale and offset specific bands\n",
    "        df_filtered['ST_B10_Celsius'] = df_filtered['ST_B10'] * 0.00341802 + 149 - 273.15\n",
    "        bands_to_scale = ['SR_B1', 'SR_B2', 'SR_B3', 'SR_B4', 'SR_B5', 'SR_B6', 'SR_B7']\n",
    "        for band in bands_to_scale:\n",
    "            df_filtered[f\"{band}_Scaled\"] = df_filtered[band] * 2.75e-05 - 0.2\n",
    "\n",
    "        additional_scales = {\n",
    "            'ST_ATRAN': 0.0001, 'ST_CDIST': 0.01, 'ST_DRAD': 0.001, \n",
    "            'ST_EMIS': 0.0001, 'ST_EMSD': 0.0001, 'ST_QA': 0.01, \n",
    "            'ST_TRAD': 0.001, 'ST_URAD': 0.001\n",
    "        }\n",
    "        for band, scale in additional_scales.items():\n",
    "            df_filtered[f\"{band}_Scaled\"] = df_filtered[band] * scale\n",
    "\n",
    "        gdf = gpd.GeoDataFrame(df_filtered, geometry=gpd.points_from_xy(df_filtered.Longitude, df_filtered.Latitude))\n",
    "        gdf.set_crs('EPSG:4326', inplace=True)  # Ensure the CRS is set to WGS 84\n",
    "\n",
    "        print(\"Number of valid pixels: \" + str(len(gdf)))\n",
    "\n",
    "    # Rewrite the zip file including the modified target file\n",
    "    with zipfile.ZipFile(file_zip_path, 'w', zipfile.ZIP_DEFLATED) as z:\n",
    "        for foldername, subfolders, filenames in os.walk(process_directory):\n",
    "            for filename in filenames:\n",
    "                filepath = os.path.join(foldername, filename)\n",
    "                arcname = os.path.relpath(filepath, process_directory)\n",
    "                z.write(filepath, arcname)\n",
    "                os.remove(filepath)  # Optionally remove the file after adding to zip\n",
    "\n",
    "    # Optionally remove the processing directory after updating the zip\n",
    "    shutil.rmtree(process_directory)\n",
    "    print(\"Processing complete, directory cleaned.\")\n",
    "\n",
    "# Path and file specifications\n",
    "year = \"2018\"\n",
    "zip_path = f\"C:\\\\LocalOneDrive\\\\Documents\\\\Desktop\\\\MTI\\\\UHI-Project\\\\MSE-ES-UHI\\\\Data\\\\Landsat8\\\\{year}.zip\"\n",
    "satellite_image = \"L8_UTC_20181218_031630\"\n",
    "target_file_path = f\"{year}/{satellite_image}.tif\"\n",
    "processing_path = f\"C:\\\\LocalOneDrive\\\\Documents\\\\Desktop\\\\MTI\\\\UHI-Project\\\\MSE-ES-UHI\\\\Data\\\\Landsat8\\\\{year}_processing\"\n",
    "\n",
    "# Execute the function\n",
    "unzip_process_zip(zip_path, target_file_path, processing_path)"
   ]
  },
  {
   "cell_type": "markdown",
   "metadata": {},
   "source": [
    "#### Filtering specific locations to verify the effect of cool paints"
   ]
  },
  {
   "cell_type": "markdown",
   "metadata": {},
   "source": [
    "A. Bukit Purmei Block 112 and 114"
   ]
  },
  {
   "cell_type": "code",
   "execution_count": 89,
   "metadata": {},
   "outputs": [
    {
     "name": "stdout",
     "output_type": "stream",
     "text": [
      "Coordinates for postal code 090112: Longitude 103.82593292805574, Latitude 1.2745285256209595\n",
      "Coordinates for postal code 090114: Longitude 103.82588719010951, Latitude 1.2750718182249274\n"
     ]
    }
   ],
   "source": [
    "import geopandas as gpd\n",
    "\n",
    "geojson_path = \"C:\\\\LocalOneDrive\\\\Documents\\\\Desktop\\\\MTI\\\\UHI-Project\\\\MSE-ES-UHI\\\\Data\\\\ADDRPT.geojson\"\n",
    "postal_code_112 = \"090112\"\n",
    "postal_code_114 = \"090114\"\n",
    "\n",
    "# Load the GeoJSON file\n",
    "gdf = gpd.read_file(geojson_path)\n",
    "\n",
    "# Function to retrieve coordinates by postal code\n",
    "def get_coordinates_by_postal_code(postal_code):\n",
    "    # Filter GeoDataFrame for the given postal code\n",
    "    filtered_gdf = gdf[gdf['POSTAL_CODE'] == postal_code]\n",
    "    if not filtered_gdf.empty:\n",
    "        # Extract coordinates\n",
    "        point = filtered_gdf.iloc[0].geometry\n",
    "        return point.x, point.y\n",
    "    else:\n",
    "        return None, None\n",
    "\n",
    "longitude_112, latitude_112 = get_coordinates_by_postal_code(postal_code_112)\n",
    "longitude_114, latitude_114 = get_coordinates_by_postal_code(postal_code_114)\n",
    "\n",
    "if longitude_112 and latitude_112 and longitude_114 and latitude_114:\n",
    "    print(f'Coordinates for postal code {postal_code_112}: Longitude {longitude_112}, Latitude {latitude_112}')\n",
    "    print(f'Coordinates for postal code {postal_code_114}: Longitude {longitude_114}, Latitude {latitude_114}')\n",
    "else:\n",
    "    print('Postal code not found.')"
   ]
  },
  {
   "cell_type": "code",
   "execution_count": 90,
   "metadata": {},
   "outputs": [
    {
     "name": "stdout",
     "output_type": "stream",
     "text": [
      "Average coordinates between postal codes 090112 and 090114:\n",
      "Longitude: 103.82591005908262, Latitude: 1.2748001719229434\n"
     ]
    }
   ],
   "source": [
    "# Finding the central postal code for Blocks 112 and 114\n",
    "if longitude_112 and latitude_112 and longitude_114 and latitude_114:\n",
    "    # Calculate the average coordinates\n",
    "    avg_longitude = (longitude_112 + longitude_114) / 2\n",
    "    avg_latitude = (latitude_112 + latitude_114) / 2\n",
    "    print(f'Average coordinates between postal codes {postal_code_112} and {postal_code_114}:')\n",
    "    print(f'Longitude: {avg_longitude}, Latitude: {avg_latitude}')\n",
    "else:\n",
    "    print('Postal code not found.')"
   ]
  },
  {
   "cell_type": "code",
   "execution_count": 96,
   "metadata": {},
   "outputs": [
    {
     "name": "stdout",
     "output_type": "stream",
     "text": [
      "Number of points within 90m radius: 27\n"
     ]
    }
   ],
   "source": [
    "gdf = gpd.GeoDataFrame(df_filtered, geometry=gpd.points_from_xy(df_filtered.Longitude, df_filtered.Latitude))\n",
    "gdf.set_crs('EPSG:4326', inplace=True)  # Ensure the CRS is set to WGS 84\n",
    "\n",
    "# Define your point of interest and buffer distance in meters\n",
    "poi = Point(avg_longitude, avg_latitude)  # Example: Central Singapore\n",
    "desired_radius = 90\n",
    "buffer = poi.buffer(desired_radius / 111320)  # Convert meters to degrees approximately\n",
    "\n",
    "# Filter points within the buffer\n",
    "filtered_gdf = gdf[gdf.geometry.within(buffer)]\n",
    "\n",
    "# Save or process your filtered data\n",
    "print(f\"Number of points within {desired_radius}m radius: {len(filtered_gdf)}\")"
   ]
  },
  {
   "cell_type": "code",
   "execution_count": 95,
   "metadata": {},
   "outputs": [
    {
     "name": "stdout",
     "output_type": "stream",
     "text": [
      "          Longitude  Latitude   SR_B1   SR_B2   SR_B3   SR_B4    SR_B5  \\\n",
      "1280350  103.825495  1.275399  5970.0  6392.0  7446.0  7141.0   8943.0   \n",
      "1280351  103.825765  1.275400  4182.0  4794.0  6465.0  5971.0   8331.0   \n",
      "1280352  103.826035  1.275400  2221.0  3029.0  5449.0  4657.0   7380.0   \n",
      "1280353  103.826304  1.275400  1396.0  2365.0  5162.0  4338.0   6961.0   \n",
      "1282131  103.825226  1.275128  6831.0  7069.0  7909.0  7497.0  10591.0   \n",
      "\n",
      "          SR_B6   SR_B7  SR_QA_AEROSOL  ...  SR_B7_Scaled  ST_ATRAN_Scaled  \\\n",
      "1280350  8517.0  8071.0            228  ...      0.021952           0.3657   \n",
      "1280351  8218.0  7860.0            228  ...      0.016150           0.3657   \n",
      "1280352  8038.0  7873.0            228  ...      0.016507           0.3657   \n",
      "1280353  8166.0  7990.0            228  ...      0.019725           0.3657   \n",
      "1282131  8931.0  8173.0            228  ...      0.024758           0.3657   \n",
      "\n",
      "         ST_CDIST_Scaled  ST_DRAD_Scaled  ST_EMIS_Scaled  ST_EMSD_Scaled  \\\n",
      "1280350             0.18           2.092          0.9628          0.0000   \n",
      "1280351             0.15           2.092          0.9628          0.0000   \n",
      "1280352             0.12           2.092          0.9578          0.0011   \n",
      "1280353             0.09           2.092          0.9578          0.0011   \n",
      "1282131             0.20           2.092          0.9628          0.0000   \n",
      "\n",
      "         ST_QA_Scaled  ST_TRAD_Scaled  ST_URAD_Scaled  \\\n",
      "1280350          6.02        8.969001           4.855   \n",
      "1280351          6.16        8.954000           4.855   \n",
      "1280352          6.29        8.936001           4.855   \n",
      "1280353          6.44        8.913000           4.855   \n",
      "1282131          5.92        8.992001           4.855   \n",
      "\n",
      "                                geometry  \n",
      "1280350  POINT (11557801.278 141988.537)  \n",
      "1280351  POINT (11557831.291 141988.550)  \n",
      "1280352  POINT (11557861.304 141988.564)  \n",
      "1280353  POINT (11557891.317 141988.578)  \n",
      "1282131  POINT (11557771.279 141958.308)  \n",
      "\n",
      "[5 rows x 38 columns]\n"
     ]
    }
   ],
   "source": [
    "print(filtered_gdf.head())"
   ]
  },
  {
   "cell_type": "code",
   "execution_count": 94,
   "metadata": {},
   "outputs": [
    {
     "name": "stderr",
     "output_type": "stream",
     "text": [
      "WARNING:bokeh.core.validation.check:W-1005 (FIXED_SIZING_MODE): 'fixed' sizing mode requires width and height to be set: figure(id='p7292', ...)\n"
     ]
    },
    {
     "name": "stdout",
     "output_type": "stream",
     "text": [
      "Launching server at http://localhost:59410\n"
     ]
    },
    {
     "data": {
      "text/plain": [
       "<panel.io.server.Server at 0x18f850e7370>"
      ]
     },
     "execution_count": 94,
     "metadata": {},
     "output_type": "execute_result"
    },
    {
     "name": "stderr",
     "output_type": "stream",
     "text": [
      "WARNING:bokeh.core.validation.check:W-1005 (FIXED_SIZING_MODE): 'fixed' sizing mode requires width and height to be set: figure(id='p7387', ...)\n"
     ]
    }
   ],
   "source": [
    "import geopandas as gpd\n",
    "import hvplot.pandas\n",
    "import holoviews as hv\n",
    "from bokeh.palettes import Turbo256  # Import a predefined Bokeh palette\n",
    "import panel as pn\n",
    "\n",
    "# Assuming 'filtered_gdf' is your preloaded GeoDataFrame\n",
    "# Ensure the CRS is set\n",
    "if filtered_gdf.crs is None:\n",
    "    filtered_gdf.set_crs('epsg:4326', inplace=True)  # Assuming the data is in WGS 84\n",
    "\n",
    "# Convert to Web Mercator for better mapping support\n",
    "filtered_gdf = filtered_gdf.to_crs(epsg=3857)\n",
    "\n",
    "# Define a function to select a subset of the color palette\n",
    "def select_colors(palette, n):\n",
    "    return [palette[int(i)] for i in np.linspace(0, len(palette)-1, n)]\n",
    "\n",
    "# Create a custom color scale using a continuous palette\n",
    "custom_palette = select_colors(Turbo256, 256)  # More colors for smoother transitions\n",
    "\n",
    "# Create the heatmap\n",
    "heatmap = filtered_gdf.hvplot.points('Longitude', 'Latitude', geo=True, c='ST_B10_Celsius',\n",
    "                                     cmap=custom_palette, size=5,\n",
    "                                     tiles='OSM', frame_width=700, frame_height=500,\n",
    "                                     colorbar=True, clim=(20, 40))\n",
    "\n",
    "# Set up Panel to display the plot\n",
    "pane = pn.panel(heatmap)\n",
    "pane.save(f'C:\\\\LocalOneDrive\\\\Documents\\\\Desktop\\\\MTI\\\\UHI-Project\\\\MSE-ES-UHI\\\\MSE-ES-UHI\\\\2_landsat\\\\Heatmaps\\\\{postal_code_112}_{satellite_image}_Land_Surface_Temperature_Map.html', embed=True)\n",
    "\n",
    "# Display the plot in the notebook\n",
    "pane.show()"
   ]
  }
 ],
 "metadata": {
  "kernelspec": {
   "display_name": "Python 3",
   "language": "python",
   "name": "python3"
  },
  "language_info": {
   "codemirror_mode": {
    "name": "ipython",
    "version": 3
   },
   "file_extension": ".py",
   "mimetype": "text/x-python",
   "name": "python",
   "nbconvert_exporter": "python",
   "pygments_lexer": "ipython3",
   "version": "3.10.6"
  }
 },
 "nbformat": 4,
 "nbformat_minor": 2
}
