{
 "cells": [
  {
   "cell_type": "code",
   "execution_count": null,
   "metadata": {},
   "outputs": [],
   "source": [
    "import ee\n",
    "ee.Initialize()\n",
    "\n",
    "# Filter the Landsat 8 collection for a specific date and path/row.\n",
    "landsat = ee.ImageCollection('LANDSAT/LC08/C02/T1_L2')\n",
    "filtered_image = landsat.filterDate('2022-11-27', '2022-11-28').first()\n",
    "\n",
    "# Check if an image was found and print properties\n",
    "if filtered_image:\n",
    "    image_info = filtered_image.getInfo()\n",
    "    image_quality_tirs = image_info['properties'].get('IMAGE_QUALITY_TIRS', 'Unknown')\n",
    "    processing_level = image_info['properties'].get('L1_PROCESSING_LEVEL', 'Unknown')\n",
    "    print(\"IMAGE_QUALITY_TIRS:\", image_quality_tirs)\n",
    "    print(\"L1_PROCESSING_LEVEL:\", processing_level)\n",
    "else:\n",
    "    print(\"No image found for the specified criteria.\")"
   ]
  }
 ],
 "metadata": {
  "language_info": {
   "name": "python"
  }
 },
 "nbformat": 4,
 "nbformat_minor": 2
}
