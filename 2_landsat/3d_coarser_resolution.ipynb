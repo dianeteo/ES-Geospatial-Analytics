{
 "cells": [
  {
   "cell_type": "code",
   "execution_count": 11,
   "metadata": {},
   "outputs": [
    {
     "name": "stdout",
     "output_type": "stream",
     "text": [
      "   Latitude   Longitude\n",
      "0  1.469782  103.590066\n",
      "1  1.469783  103.590966\n",
      "2  1.469783  103.591866\n",
      "3  1.469784  103.592766\n",
      "4  1.469784  103.593665\n",
      "200784\n"
     ]
    }
   ],
   "source": [
    "# Rescaling each pixel to be larger than existing\n",
    "\n",
    "import rasterio\n",
    "from rasterio.enums import Resampling\n",
    "import pandas as pd\n",
    "import numpy as np\n",
    "import os\n",
    "from pyproj import Transformer\n",
    "\n",
    "data_directory = \"C:\\\\LocalOneDrive\\\\Documents\\\\Desktop\\\\MTI\\\\UHI-Project\\\\MSE-ES-UHI\\\\Data\\\\Landsat8\\\\test_data\"\n",
    "scale_factor = 100 / 30  # Change 100 to your desired output resolution\n",
    "\n",
    "# Loop through each file in the directory\n",
    "for filename in os.listdir(data_directory):\n",
    "    if filename.startswith(\"L8_UTC_\"):  # Adjust to match your filename structure\n",
    "        file_path = os.path.join(data_directory, filename)\n",
    "\n",
    "        # Open the GeoTIFF file\n",
    "        with rasterio.open(file_path) as src:\n",
    "            # Resample the data\n",
    "            data = src.read(\n",
    "                out_shape=(\n",
    "                    src.count,\n",
    "                    int(src.height / scale_factor),\n",
    "                    int(src.width / scale_factor)\n",
    "                ),\n",
    "                resampling=Resampling.cubic  # Or Resampling.bilinear\n",
    "            )\n",
    "\n",
    "            # Adjust the transformation for resampled resolution\n",
    "            transform = src.transform * src.transform.scale(\n",
    "                (src.width / data.shape[-1]),\n",
    "                (src.height / data.shape[-2])\n",
    "            )\n",
    "\n",
    "            # Create transformer for coordinate conversion\n",
    "            transformer = Transformer.from_crs(src.crs, 'EPSG:4326', always_xy=True)\n",
    "            cols, rows = np.meshgrid(np.arange(data.shape[-1]), np.arange(data.shape[-2]))\n",
    "            xs, ys = rasterio.transform.xy(transform, rows, cols, offset='center')\n",
    "            lon, lat = transformer.transform(np.array(xs).flatten(), np.array(ys).flatten())\n",
    "\n",
    "            # Flatten and create DataFrame\n",
    "            reshaped_array = data.transpose(1, 2, 0).reshape(-1, data.shape[0])\n",
    "            df = pd.DataFrame(reshaped_array, columns=src.descriptions)\n",
    "            df['Longitude'] = lon\n",
    "            df['Latitude'] = lat\n",
    "            df['ST_B10_Celsius'] = df['ST_B10'] * 0.00341802 + 149 - 273.15\n",
    "\n",
    "            # Adjusting band values as before\n",
    "            bands_to_scale = ['SR_B1', 'SR_B2', 'SR_B3', 'SR_B4', 'SR_B5', 'SR_B6', 'SR_B7']\n",
    "            for band in bands_to_scale:\n",
    "                df[f\"{band}_Scaled\"] = df[band] * 2.75e-05 - 0.2\n",
    "\n",
    "            additional_scales = {\n",
    "                'ST_ATRAN': 0.0001, 'ST_CDIST': 0.01, 'ST_DRAD': 0.001, \n",
    "                'ST_EMIS': 0.0001, 'ST_EMSD': 0.0001, 'ST_QA': 0.01, \n",
    "                'ST_TRAD': 0.001, 'ST_URAD': 0.001\n",
    "            }\n",
    "            for band, scale in additional_scales.items():\n",
    "                df[f\"{band}_Scaled\"] = df[band] * scale\n",
    "\n",
    "            # # Save the bands data to CSV\n",
    "            # bands_csv_path = os.path.join(data_directory, f'Landsat8_Bands_{filename[:-4]}.csv')\n",
    "            # bands_df.to_csv(bands_csv_path, index=False)\n",
    "            # print(f\"Saved band data to {bands_csv_path}\") \n",
    "\n",
    "            # # Save metadata to CSV\n",
    "            # metadata_df = pd.DataFrame([src.meta])\n",
    "            # metadata_csv_path = os.path.join(data_directory, f'Landsat8_Metadata_{filename[:-4]}.csv')\n",
    "            # metadata_df.to_csv(metadata_csv_path, index=False)\n",
    "            # print(f\"Saved metadata to {metadata_csv_path}\")\n",
    "\n",
    "print(df[['Latitude', 'Longitude']].head())\n",
    "print(len(df))"
   ]
  },
  {
   "cell_type": "code",
   "execution_count": 12,
   "metadata": {},
   "outputs": [
    {
     "name": "stderr",
     "output_type": "stream",
     "text": [
      "c:\\Users\\teomi\\AppData\\Local\\Programs\\Python\\Python310\\lib\\site-packages\\IPython\\core\\interactiveshell.py:3448: FutureWarning: The `op` parameter is deprecated and will be removed in a future release. Please use the `predicate` parameter instead.\n",
      "  if await self.run_code(code, result, async_=asy):\n"
     ]
    }
   ],
   "source": [
    "import geopandas as gpd\n",
    "\n",
    "# First, clean your data by dropping or filling NaN values\n",
    "df = df.dropna(subset=['ST_B10_Celsius'])  # Removes rows where 'ST_B10_Celsius' is NaN\n",
    "singapore_geojson_path = \"C:\\\\LocalOneDrive\\\\Documents\\\\Desktop\\\\MTI\\\\UHI-Project\\\\MSE-ES-UHI\\\\Data\\\\singapore-boundary.geojson\"\n",
    "\n",
    "# Create a map centered around the mean coordinates of the filtered data\n",
    "map_center = [df['Latitude'].mean(), df['Longitude'].mean()]\n",
    "\n",
    "singapore_boundary = gpd.read_file(singapore_geojson_path)\n",
    "\n",
    "# Convert your DataFrame to a GeoDataFrame\n",
    "gdf = gpd.GeoDataFrame(df, geometry=gpd.points_from_xy(df.Longitude, df.Latitude))\n",
    "gdf.crs = singapore_boundary.crs  # Ensure the CRS matches\n",
    "\n",
    "# Perform spatial join to filter points within Singapore\n",
    "gdf = gpd.sjoin(gdf, singapore_boundary, how=\"inner\", op='within')"
   ]
  },
  {
   "cell_type": "code",
   "execution_count": 13,
   "metadata": {},
   "outputs": [
    {
     "name": "stderr",
     "output_type": "stream",
     "text": [
      "WARNING:bokeh.core.validation.check:W-1005 (FIXED_SIZING_MODE): 'fixed' sizing mode requires width and height to be set: figure(id='p1114', ...)\n"
     ]
    }
   ],
   "source": [
    "# Heatmap of rescaled graph where each pixel represents a bigger area\n",
    "\n",
    "import geopandas as gpd\n",
    "import hvplot.pandas\n",
    "import holoviews as hv\n",
    "from bokeh.palettes import Turbo256  # Import a predefined Bokeh palette\n",
    "\n",
    "# Assuming 'gdf' is your preloaded GeoDataFrame\n",
    "gdf = gdf.to_crs(epsg=3857)  # Convert to Web Mercator for better mapping support\n",
    "\n",
    "# Define a function to select a subset of the color palette\n",
    "def select_colors(palette, n):\n",
    "    return [palette[int(i)] for i in np.linspace(0, len(palette)-1, n)]\n",
    "\n",
    "# Create a custom color scale using a continuous palette\n",
    "custom_palette = select_colors(Turbo256, 256)  # More colors for smoother transitions\n",
    "\n",
    "# Create the heatmap\n",
    "heatmap = gdf.hvplot.points('Longitude', 'Latitude', geo=True, c='ST_B10_Celsius',\n",
    "                            cmap=custom_palette, size=5,  # Smaller size for finer detail\n",
    "                            tiles='OSM', frame_width=700, frame_height=500,\n",
    "                            colorbar=True, clim=(20, 40))\n",
    "\n",
    "#file_path = \"C:/LocalOneDrive/Documents/Desktop/MTI/UHI-Project/MSE-ES-UHI/MSE-ES-UHI/2_landsat/Heatmaps\"\n",
    "\n",
    "# Set up Panel to display the plot\n",
    "heatmap_panel = hv.save(heatmap, 'hvPlot_Land_Surface_Temperature_Map_coarse_gradient.html', backend='bokeh')\n",
    "\n",
    "# Display the plot in the notebook\n",
    "heatmap_panel"
   ]
  }
 ],
 "metadata": {
  "kernelspec": {
   "display_name": "Python 3",
   "language": "python",
   "name": "python3"
  },
  "language_info": {
   "codemirror_mode": {
    "name": "ipython",
    "version": 3
   },
   "file_extension": ".py",
   "mimetype": "text/x-python",
   "name": "python",
   "nbconvert_exporter": "python",
   "pygments_lexer": "ipython3",
   "version": "3.10.6"
  }
 },
 "nbformat": 4,
 "nbformat_minor": 2
}
