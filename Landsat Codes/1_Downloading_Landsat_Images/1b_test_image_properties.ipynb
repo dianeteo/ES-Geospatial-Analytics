{
 "cells": [
  {
   "cell_type": "code",
   "execution_count": 6,
   "metadata": {},
   "outputs": [
    {
     "data": {
      "text/html": [
       "<p>To authorize access needed by Earth Engine, open the following\n",
       "        URL in a web browser and follow the instructions:</p>\n",
       "        <p><a href=https://code.earthengine.google.com/client-auth?scopes=https%3A//www.googleapis.com/auth/earthengine%20https%3A//www.googleapis.com/auth/cloud-platform%20https%3A//www.googleapis.com/auth/devstorage.full_control&request_id=oK8WsADQNOW9uj2KhVnOoHK7NFcEa3MNKtSSBjnBPz4&tc=C_hlKS9DzUllw5XzPyreVT31Ch3wB-V1vkL-2vMhuFA&cc=NH5wCUhZrkPHeqge2q9xoafKJ8z9Iby11-ZzsjCl60g>https://code.earthengine.google.com/client-auth?scopes=https%3A//www.googleapis.com/auth/earthengine%20https%3A//www.googleapis.com/auth/cloud-platform%20https%3A//www.googleapis.com/auth/devstorage.full_control&request_id=oK8WsADQNOW9uj2KhVnOoHK7NFcEa3MNKtSSBjnBPz4&tc=C_hlKS9DzUllw5XzPyreVT31Ch3wB-V1vkL-2vMhuFA&cc=NH5wCUhZrkPHeqge2q9xoafKJ8z9Iby11-ZzsjCl60g</a></p>\n",
       "        <p>The authorization workflow will generate a code, which you should paste in the box below.</p>\n",
       "        "
      ],
      "text/plain": [
       "<IPython.core.display.HTML object>"
      ]
     },
     "metadata": {},
     "output_type": "display_data"
    },
    {
     "name": "stdout",
     "output_type": "stream",
     "text": [
      "\n",
      "Successfully saved authorization token.\n"
     ]
    }
   ],
   "source": [
    "import ee\n",
    "ee.Authenticate()\n",
    "ee.Initialize()"
   ]
  },
  {
   "cell_type": "code",
   "execution_count": 10,
   "metadata": {},
   "outputs": [
    {
     "name": "stdout",
     "output_type": "stream",
     "text": [
      "CLOUD_COVER_LAND: 50.75\n",
      "L1_PROCESSING_LEVEL: L1TP\n"
     ]
    }
   ],
   "source": [
    "# Filter the Landsat 8 collection for a specific date and path/row.\n",
    "landsat = ee.ImageCollection('LANDSAT/LC08/C02/T1_L2')\n",
    "filtered_image = landsat.filterDate('2022-11-27', '2022-11-28').first()\n",
    "\n",
    "# Check if an image was found and print properties\n",
    "if filtered_image:\n",
    "    image_info = filtered_image.getInfo()\n",
    "    image_quality_tirs = image_info['properties'].get('CLOUD_COVER_LAND', 'Unknown')\n",
    "    processing_level = image_info['properties'].get('L1_PROCESSING_LEVEL', 'Unknown')\n",
    "    print(\"CLOUD_COVER_LAND:\", image_quality_tirs)\n",
    "    print(\"L1_PROCESSING_LEVEL:\", processing_level)\n",
    "else:\n",
    "    print(\"No image found for the specified criteria.\")"
   ]
  }
 ],
 "metadata": {
  "kernelspec": {
   "display_name": "Python 3",
   "language": "python",
   "name": "python3"
  },
  "language_info": {
   "codemirror_mode": {
    "name": "ipython",
    "version": 3
   },
   "file_extension": ".py",
   "mimetype": "text/x-python",
   "name": "python",
   "nbconvert_exporter": "python",
   "pygments_lexer": "ipython3",
   "version": "3.10.6"
  }
 },
 "nbformat": 4,
 "nbformat_minor": 2
}
