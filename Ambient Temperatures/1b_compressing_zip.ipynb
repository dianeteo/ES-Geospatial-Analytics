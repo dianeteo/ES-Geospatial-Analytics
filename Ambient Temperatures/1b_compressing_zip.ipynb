{
 "cells": [
  {
   "cell_type": "code",
   "execution_count": 10,
   "metadata": {},
   "outputs": [
    {
     "name": "stdout",
     "output_type": "stream",
     "text": [
      "Moved WindSpeed_2014.csv to C:\\LocalOneDrive\\Documents\\Desktop\\MTI\\UHI-Project\\MSE-ES-UHI\\Data\\WeatherReadings\\WindSpeed\n",
      "Deleted the zip file: C:\\LocalOneDrive\\Documents\\Desktop\\MTI\\UHI-Project\\MSE-ES-UHI\\Data\\WeatherReadings\\WindSpeed\\WindSpeed_2014.zip\n",
      "Moved WindSpeed_2015.csv to C:\\LocalOneDrive\\Documents\\Desktop\\MTI\\UHI-Project\\MSE-ES-UHI\\Data\\WeatherReadings\\WindSpeed\n",
      "Deleted the zip file: C:\\LocalOneDrive\\Documents\\Desktop\\MTI\\UHI-Project\\MSE-ES-UHI\\Data\\WeatherReadings\\WindSpeed\\WindSpeed_2015.zip\n",
      "Moved WindSpeed_2016.csv to C:\\LocalOneDrive\\Documents\\Desktop\\MTI\\UHI-Project\\MSE-ES-UHI\\Data\\WeatherReadings\\WindSpeed\n",
      "Deleted the zip file: C:\\LocalOneDrive\\Documents\\Desktop\\MTI\\UHI-Project\\MSE-ES-UHI\\Data\\WeatherReadings\\WindSpeed\\WindSpeed_2016.zip\n",
      "Moved WindSpeed_2017.csv to C:\\LocalOneDrive\\Documents\\Desktop\\MTI\\UHI-Project\\MSE-ES-UHI\\Data\\WeatherReadings\\WindSpeed\n",
      "Deleted the zip file: C:\\LocalOneDrive\\Documents\\Desktop\\MTI\\UHI-Project\\MSE-ES-UHI\\Data\\WeatherReadings\\WindSpeed\\WindSpeed_2017.zip\n",
      "Moved WindSpeed_2018.csv to C:\\LocalOneDrive\\Documents\\Desktop\\MTI\\UHI-Project\\MSE-ES-UHI\\Data\\WeatherReadings\\WindSpeed\n",
      "Deleted the zip file: C:\\LocalOneDrive\\Documents\\Desktop\\MTI\\UHI-Project\\MSE-ES-UHI\\Data\\WeatherReadings\\WindSpeed\\WindSpeed_2018.zip\n",
      "Moved WindSpeed_2019.csv to C:\\LocalOneDrive\\Documents\\Desktop\\MTI\\UHI-Project\\MSE-ES-UHI\\Data\\WeatherReadings\\WindSpeed\n",
      "Deleted the zip file: C:\\LocalOneDrive\\Documents\\Desktop\\MTI\\UHI-Project\\MSE-ES-UHI\\Data\\WeatherReadings\\WindSpeed\\WindSpeed_2019.zip\n",
      "Moved WindSpeed_2020.csv to C:\\LocalOneDrive\\Documents\\Desktop\\MTI\\UHI-Project\\MSE-ES-UHI\\Data\\WeatherReadings\\WindSpeed\n",
      "Deleted the zip file: C:\\LocalOneDrive\\Documents\\Desktop\\MTI\\UHI-Project\\MSE-ES-UHI\\Data\\WeatherReadings\\WindSpeed\\WindSpeed_2020.zip\n",
      "Moved WindSpeed_2021.csv to C:\\LocalOneDrive\\Documents\\Desktop\\MTI\\UHI-Project\\MSE-ES-UHI\\Data\\WeatherReadings\\WindSpeed\n",
      "Deleted the zip file: C:\\LocalOneDrive\\Documents\\Desktop\\MTI\\UHI-Project\\MSE-ES-UHI\\Data\\WeatherReadings\\WindSpeed\\WindSpeed_2021.zip\n",
      "Moved WindSpeed_2022.csv to C:\\LocalOneDrive\\Documents\\Desktop\\MTI\\UHI-Project\\MSE-ES-UHI\\Data\\WeatherReadings\\WindSpeed\n",
      "Deleted the zip file: C:\\LocalOneDrive\\Documents\\Desktop\\MTI\\UHI-Project\\MSE-ES-UHI\\Data\\WeatherReadings\\WindSpeed\\WindSpeed_2022.zip\n",
      "Moved WindSpeed_2023.csv to C:\\LocalOneDrive\\Documents\\Desktop\\MTI\\UHI-Project\\MSE-ES-UHI\\Data\\WeatherReadings\\WindSpeed\n",
      "Deleted the zip file: C:\\LocalOneDrive\\Documents\\Desktop\\MTI\\UHI-Project\\MSE-ES-UHI\\Data\\WeatherReadings\\WindSpeed\\WindSpeed_2023.zip\n",
      "Moved WindSpeed_2024.csv to C:\\LocalOneDrive\\Documents\\Desktop\\MTI\\UHI-Project\\MSE-ES-UHI\\Data\\WeatherReadings\\WindSpeed\n",
      "Deleted the zip file: C:\\LocalOneDrive\\Documents\\Desktop\\MTI\\UHI-Project\\MSE-ES-UHI\\Data\\WeatherReadings\\WindSpeed\\WindSpeed_2024.zip\n",
      "All files have been processed.\n"
     ]
    }
   ],
   "source": [
    "import os\n",
    "import zipfile\n",
    "import shutil  # Import shutil for handling directories\n",
    "\n",
    "def extract_and_move(source_zip, target_dir, year):\n",
    "    \"\"\"Extract CSV from nested zip file and move it to a target directory.\"\"\"\n",
    "    # Define the path to the zip file for the given year\n",
    "    zip_path = os.path.join(source_zip, f\"WindSpeed_{year}.zip\")\n",
    "\n",
    "    # Check if the zip file exists\n",
    "    if not os.path.exists(zip_path):\n",
    "        print(f\"No zip file found for {year}\")\n",
    "        return\n",
    "\n",
    "    # Create a temporary directory for extraction\n",
    "    temp_dir = os.path.join(target_dir, f\"temp_{year}\")\n",
    "    os.makedirs(temp_dir, exist_ok=True)\n",
    "\n",
    "    # Extract the zip file\n",
    "    with zipfile.ZipFile(zip_path, 'r') as zipf:\n",
    "        zipf.extractall(temp_dir)\n",
    "\n",
    "    # Find the CSV file within the extracted directory\n",
    "    for root, dirs, files in os.walk(temp_dir):\n",
    "        for file in files:\n",
    "            if file.endswith(\".csv\") and f\"WindSpeed_{year}\" in file:\n",
    "                # Construct the full path to the file\n",
    "                file_path = os.path.join(root, file)\n",
    "                # Move the file to the target directory\n",
    "                os.rename(file_path, os.path.join(target_dir, file))\n",
    "                print(f\"Moved {file} to {target_dir}\")\n",
    "\n",
    "    # Cleanup: Remove the temporary extraction directory\n",
    "    shutil.rmtree(temp_dir)  # Using shutil.rmtree to remove non-empty directories\n",
    "\n",
    "    # Optionally, delete the original zip file after processing\n",
    "    os.remove(zip_path)\n",
    "    print(f\"Deleted the zip file: {zip_path}\")\n",
    "\n",
    "# Base directory for source zip files and target directory\n",
    "source_zip_base = \"C:\\\\LocalOneDrive\\\\Documents\\\\Desktop\\\\MTI\\\\UHI-Project\\\\MSE-ES-UHI\\\\Data\\\\WeatherReadings\\\\WindSpeed\"\n",
    "target_dir = \"C:\\\\LocalOneDrive\\\\Documents\\\\Desktop\\\\MTI\\\\UHI-Project\\\\MSE-ES-UHI\\\\Data\\\\WeatherReadings\\\\WindSpeed\"\n",
    "\n",
    "# Years to process\n",
    "years = [str(year) for year in range(2014, 2025)]\n",
    "\n",
    "# Process each year\n",
    "for year in years:\n",
    "    extract_and_move(source_zip_base, target_dir, year)\n",
    "\n",
    "print(\"All files have been processed.\")"
   ]
  }
 ],
 "metadata": {
  "kernelspec": {
   "display_name": "Python 3",
   "language": "python",
   "name": "python3"
  },
  "language_info": {
   "codemirror_mode": {
    "name": "ipython",
    "version": 3
   },
   "file_extension": ".py",
   "mimetype": "text/x-python",
   "name": "python",
   "nbconvert_exporter": "python",
   "pygments_lexer": "ipython3",
   "version": "3.10.6"
  }
 },
 "nbformat": 4,
 "nbformat_minor": 2
}
